{
 "cells": [
  {
   "cell_type": "markdown",
   "id": "9a8a139b",
   "metadata": {},
   "source": [
    "# This is my **jupyter** notebook\n",
    "\n",
    "## Program to *print 1 to 10*\n",
    "\n",
    "* bullet pt 1\n",
    "* bullet pt 2\n",
    "\n",
    "1. numbered pt 1\n",
    "2. numbered pt 2"
   ]
  },
  {
   "cell_type": "code",
   "execution_count": 1,
   "id": "5f972ad6",
   "metadata": {},
   "outputs": [
    {
     "name": "stdout",
     "output_type": "stream",
     "text": [
      "1 2 3 4 5 6 7 8 9 10\n"
     ]
    }
   ],
   "source": [
    "# no loop\n",
    "print(1,2,3,4,5,6,7,8,9,10)"
   ]
  },
  {
   "cell_type": "code",
   "execution_count": 2,
   "id": "ea6b17f3",
   "metadata": {},
   "outputs": [
    {
     "name": "stdout",
     "output_type": "stream",
     "text": [
      "1\n",
      "2\n",
      "3\n",
      "4\n",
      "5\n",
      "6\n",
      "7\n",
      "8\n",
      "9\n",
      "10\n",
      "That's all\n"
     ]
    }
   ],
   "source": [
    "# using a loop to print 1 to 10\n",
    "for i in range(1,11):\n",
    "    print(i)\n",
    "    \n",
    "print(\"That's all\")"
   ]
  },
  {
   "cell_type": "code",
   "execution_count": null,
   "id": "c04a1ca5",
   "metadata": {},
   "outputs": [],
   "source": []
  }
 ],
 "metadata": {
  "kernelspec": {
   "display_name": "Python 3",
   "language": "python",
   "name": "python3"
  },
  "language_info": {
   "codemirror_mode": {
    "name": "ipython",
    "version": 3
   },
   "file_extension": ".py",
   "mimetype": "text/x-python",
   "name": "python",
   "nbconvert_exporter": "python",
   "pygments_lexer": "ipython3",
   "version": "3.8.8"
  }
 },
 "nbformat": 4,
 "nbformat_minor": 5
}
